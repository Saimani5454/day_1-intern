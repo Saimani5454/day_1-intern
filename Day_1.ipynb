{
  "nbformat": 4,
  "nbformat_minor": 0,
  "metadata": {
    "colab": {
      "provenance": [],
      "authorship_tag": "ABX9TyNkv2rgliHP+rX7IYENpLXv",
      "include_colab_link": true
    },
    "kernelspec": {
      "name": "python3",
      "display_name": "Python 3"
    },
    "language_info": {
      "name": "python"
    }
  },
  "cells": [
    {
      "cell_type": "markdown",
      "metadata": {
        "id": "view-in-github",
        "colab_type": "text"
      },
      "source": [
        "<a href=\"https://colab.research.google.com/github/Saimani5454/day_1-intern/blob/main/Day_1.ipynb\" target=\"_parent\"><img src=\"https://colab.research.google.com/assets/colab-badge.svg\" alt=\"Open In Colab\"/></a>"
      ]
    },
    {
      "cell_type": "code",
      "execution_count": 2,
      "metadata": {
        "colab": {
          "base_uri": "https://localhost:8080/"
        },
        "id": "G2K3vz5Gtcoz",
        "outputId": "4fd4fb75-1175-4c14-834b-596406f2ad81"
      },
      "outputs": [
        {
          "output_type": "stream",
          "name": "stdout",
          "text": [
            "[1, 2, 3, 4, 5]\n",
            "[1, 2, 3, 4, 5]\n"
          ]
        }
      ],
      "source": [
        "#Copy\n",
        "list_1=[1,2,3,4]\n",
        "list_2=list_1\n",
        "list_2.append(5)\n",
        "print(list_1)\n",
        "print(list_2)\n"
      ]
    },
    {
      "cell_type": "code",
      "source": [
        "#Deep Copy\n",
        "import copy\n",
        "list_1=[[1,2],[3,4]]\n",
        "list_2=copy.deepcopy(list_1)\n",
        "list_1[0][0]=100\n",
        "print(list_1)\n",
        "print(list_2)"
      ],
      "metadata": {
        "colab": {
          "base_uri": "https://localhost:8080/"
        },
        "id": "Ex9CQtgOt71O",
        "outputId": "0490e557-8e50-4e17-c7e8-572f4b48a9fa"
      },
      "execution_count": 4,
      "outputs": [
        {
          "output_type": "stream",
          "name": "stdout",
          "text": [
            "[[100, 2], [3, 4]]\n",
            "[[1, 2], [3, 4]]\n"
          ]
        }
      ]
    },
    {
      "cell_type": "code",
      "source": [
        "import copy\n",
        "employee_1={\n",
        "     \"name\":\"Saimadhav\",\n",
        "     \"age\":23,\n",
        "     \"Address\":{\"City\":\"Los Angels\",\"Zip\":100001}\n",
        "\n",
        "}\n",
        "employees_2=copy.deepcopy(employee_1)\n",
        "employee_1[\"Address\"][\"City\"]=\"New York\"\n",
        "print(employee_1)\n",
        "print(employees_2)"
      ],
      "metadata": {
        "colab": {
          "base_uri": "https://localhost:8080/"
        },
        "id": "Cyl6ncfYuvLm",
        "outputId": "08a48d32-98ca-4773-cfe6-1071cf2a1591"
      },
      "execution_count": 5,
      "outputs": [
        {
          "output_type": "stream",
          "name": "stdout",
          "text": [
            "{'name': 'Saimadhav', 'age': 23, 'Address': {'City': 'New York', 'Zip': 100001}}\n",
            "{'name': 'Saimadhav', 'age': 23, 'Address': {'City': 'Los Angels', 'Zip': 100001}}\n"
          ]
        }
      ]
    },
    {
      "cell_type": "code",
      "source": [
        "#Shallow Copy\n",
        "import copy\n",
        "list_1=[1,2,3,4]\n",
        "list_2=copy.copy(list_1)\n",
        "list_2[1]=5\n",
        "print(\"Original_list:\",list_1)\n",
        "print(\"Copied_list:\",list_2)"
      ],
      "metadata": {
        "colab": {
          "base_uri": "https://localhost:8080/"
        },
        "id": "1k8HJPRBwllQ",
        "outputId": "e95386be-873b-4270-a75e-4e77fa40aa88"
      },
      "execution_count": 15,
      "outputs": [
        {
          "output_type": "stream",
          "name": "stdout",
          "text": [
            "Original_list: [1, 2, 3, 4]\n",
            "Copied_list: [1, 5, 3, 4]\n"
          ]
        }
      ]
    },
    {
      "cell_type": "code",
      "source": [
        "import copy\n",
        "list_1=[1,2,3,4]\n",
        "list_2=list(list_1)\n",
        "list_2[1]=999\n",
        "print(list_1)\n",
        "print(list_2)"
      ],
      "metadata": {
        "colab": {
          "base_uri": "https://localhost:8080/"
        },
        "id": "6PW8o-2M0yZN",
        "outputId": "df7de025-c584-4c7e-a3dd-1a0e7c42fb1a"
      },
      "execution_count": 17,
      "outputs": [
        {
          "output_type": "stream",
          "name": "stdout",
          "text": [
            "[1, 2, 3, 4]\n",
            "[1, 999, 3, 4]\n"
          ]
        }
      ]
    },
    {
      "cell_type": "code",
      "source": [
        "list_1=[1,2,3,4]\n",
        "list_2=list_1[:]\n",
        "list_2[1]=777\n",
        "print(list_1)\n",
        "print(list_2)"
      ],
      "metadata": {
        "colab": {
          "base_uri": "https://localhost:8080/"
        },
        "id": "2CO5hIcK33AG",
        "outputId": "671769fd-405c-4e6c-afef-903298017c75"
      },
      "execution_count": 19,
      "outputs": [
        {
          "output_type": "stream",
          "name": "stdout",
          "text": [
            "[1, 2, 3, 4]\n",
            "[1, 777, 3, 4]\n"
          ]
        }
      ]
    }
  ]
}